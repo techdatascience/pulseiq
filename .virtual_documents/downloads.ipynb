import nltk
nltk.download('punkt')
nltk.download('stopwords')
nltk.download('sentiwordnet')
nltk.download('wordnet')


!pip install streamlit-lottie









