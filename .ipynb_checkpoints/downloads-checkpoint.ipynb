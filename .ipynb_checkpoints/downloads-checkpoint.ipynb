{
 "cells": [
  {
   "cell_type": "code",
   "execution_count": 4,
   "id": "1dd0666a-f639-424e-a8fc-0568602e0b4b",
   "metadata": {
    "scrolled": true
   },
   "outputs": [
    {
     "name": "stderr",
     "output_type": "stream",
     "text": [
      "[nltk_data] Downloading package punkt to\n",
      "[nltk_data]     C:\\Users\\arjun\\AppData\\Roaming\\nltk_data...\n",
      "[nltk_data]   Package punkt is already up-to-date!\n",
      "[nltk_data] Downloading package stopwords to\n",
      "[nltk_data]     C:\\Users\\arjun\\AppData\\Roaming\\nltk_data...\n",
      "[nltk_data]   Package stopwords is already up-to-date!\n",
      "[nltk_data] Downloading package sentiwordnet to\n",
      "[nltk_data]     C:\\Users\\arjun\\AppData\\Roaming\\nltk_data...\n",
      "[nltk_data]   Package sentiwordnet is already up-to-date!\n",
      "[nltk_data] Downloading package wordnet to\n",
      "[nltk_data]     C:\\Users\\arjun\\AppData\\Roaming\\nltk_data...\n",
      "[nltk_data]   Package wordnet is already up-to-date!\n"
     ]
    },
    {
     "data": {
      "text/plain": [
       "True"
      ]
     },
     "execution_count": 4,
     "metadata": {},
     "output_type": "execute_result"
    }
   ],
   "source": [
    "import nltk\n",
    "nltk.download('punkt')\n",
    "nltk.download('stopwords')\n",
    "nltk.download('sentiwordnet')\n",
    "nltk.download('wordnet')"
   ]
  },
  {
   "cell_type": "code",
   "execution_count": 5,
   "id": "4237af85-294e-4ce1-83a1-c910ceb1bc18",
   "metadata": {},
   "outputs": [
    {
     "name": "stdout",
     "output_type": "stream",
     "text": [
      "Collecting streamlit-lottie\n",
      "  Downloading streamlit_lottie-0.0.5-py3-none-any.whl.metadata (3.3 kB)\n",
      "Requirement already satisfied: streamlit>=0.63 in c:\\users\\arjun\\anaconda3\\envs\\proj_strlit\\lib\\site-packages (from streamlit-lottie) (1.40.1)\n",
      "Requirement already satisfied: altair<6,>=4.0 in c:\\users\\arjun\\anaconda3\\envs\\proj_strlit\\lib\\site-packages (from streamlit>=0.63->streamlit-lottie) (4.2.2)\n",
      "Requirement already satisfied: blinker<2,>=1.0.0 in c:\\users\\arjun\\anaconda3\\envs\\proj_strlit\\lib\\site-packages (from streamlit>=0.63->streamlit-lottie) (1.6.2)\n",
      "Requirement already satisfied: cachetools<6,>=4.0 in c:\\users\\arjun\\anaconda3\\envs\\proj_strlit\\lib\\site-packages (from streamlit>=0.63->streamlit-lottie) (5.3.3)\n",
      "Requirement already satisfied: click<9,>=7.0 in c:\\users\\arjun\\anaconda3\\envs\\proj_strlit\\lib\\site-packages (from streamlit>=0.63->streamlit-lottie) (8.1.7)\n",
      "Requirement already satisfied: numpy<3,>=1.20 in c:\\users\\arjun\\anaconda3\\envs\\proj_strlit\\lib\\site-packages (from streamlit>=0.63->streamlit-lottie) (1.24.3)\n",
      "Requirement already satisfied: packaging<25,>=20 in c:\\users\\arjun\\anaconda3\\envs\\proj_strlit\\lib\\site-packages (from streamlit>=0.63->streamlit-lottie) (24.1)\n",
      "Requirement already satisfied: pandas<3,>=1.4.0 in c:\\users\\arjun\\anaconda3\\envs\\proj_strlit\\lib\\site-packages (from streamlit>=0.63->streamlit-lottie) (2.0.3)\n",
      "Requirement already satisfied: pillow<12,>=7.1.0 in c:\\users\\arjun\\anaconda3\\envs\\proj_strlit\\lib\\site-packages (from streamlit>=0.63->streamlit-lottie) (10.4.0)\n",
      "Requirement already satisfied: protobuf<6,>=3.20 in c:\\users\\arjun\\anaconda3\\envs\\proj_strlit\\lib\\site-packages (from streamlit>=0.63->streamlit-lottie) (3.20.3)\n",
      "Requirement already satisfied: pyarrow>=7.0 in c:\\users\\arjun\\anaconda3\\envs\\proj_strlit\\lib\\site-packages (from streamlit>=0.63->streamlit-lottie) (14.0.2)\n",
      "Requirement already satisfied: requests<3,>=2.27 in c:\\users\\arjun\\anaconda3\\envs\\proj_strlit\\lib\\site-packages (from streamlit>=0.63->streamlit-lottie) (2.32.3)\n",
      "Requirement already satisfied: rich<14,>=10.14.0 in c:\\users\\arjun\\anaconda3\\envs\\proj_strlit\\lib\\site-packages (from streamlit>=0.63->streamlit-lottie) (13.7.1)\n",
      "Requirement already satisfied: tenacity<10,>=8.1.0 in c:\\users\\arjun\\anaconda3\\envs\\proj_strlit\\lib\\site-packages (from streamlit>=0.63->streamlit-lottie) (8.2.3)\n",
      "Requirement already satisfied: toml<2,>=0.10.1 in c:\\users\\arjun\\anaconda3\\envs\\proj_strlit\\lib\\site-packages (from streamlit>=0.63->streamlit-lottie) (0.10.2)\n",
      "Requirement already satisfied: typing-extensions<5,>=4.3.0 in c:\\users\\arjun\\anaconda3\\envs\\proj_strlit\\lib\\site-packages (from streamlit>=0.63->streamlit-lottie) (4.11.0)\n",
      "Requirement already satisfied: gitpython!=3.1.19,<4,>=3.0.7 in c:\\users\\arjun\\anaconda3\\envs\\proj_strlit\\lib\\site-packages (from streamlit>=0.63->streamlit-lottie) (3.1.43)\n",
      "Requirement already satisfied: pydeck<1,>=0.8.0b4 in c:\\users\\arjun\\anaconda3\\envs\\proj_strlit\\lib\\site-packages (from streamlit>=0.63->streamlit-lottie) (0.9.1)\n",
      "Requirement already satisfied: tornado<7,>=6.0.3 in c:\\users\\arjun\\anaconda3\\envs\\proj_strlit\\lib\\site-packages (from streamlit>=0.63->streamlit-lottie) (6.4.1)\n",
      "Requirement already satisfied: watchdog<7,>=2.1.5 in c:\\users\\arjun\\anaconda3\\envs\\proj_strlit\\lib\\site-packages (from streamlit>=0.63->streamlit-lottie) (4.0.1)\n",
      "Requirement already satisfied: entrypoints in c:\\users\\arjun\\anaconda3\\envs\\proj_strlit\\lib\\site-packages (from altair<6,>=4.0->streamlit>=0.63->streamlit-lottie) (0.4)\n",
      "Requirement already satisfied: jinja2 in c:\\users\\arjun\\anaconda3\\envs\\proj_strlit\\lib\\site-packages (from altair<6,>=4.0->streamlit>=0.63->streamlit-lottie) (3.1.4)\n",
      "Requirement already satisfied: jsonschema>=3.0 in c:\\users\\arjun\\anaconda3\\envs\\proj_strlit\\lib\\site-packages (from altair<6,>=4.0->streamlit>=0.63->streamlit-lottie) (4.23.0)\n",
      "Requirement already satisfied: toolz in c:\\users\\arjun\\anaconda3\\envs\\proj_strlit\\lib\\site-packages (from altair<6,>=4.0->streamlit>=0.63->streamlit-lottie) (0.12.0)\n",
      "Requirement already satisfied: colorama in c:\\users\\arjun\\anaconda3\\envs\\proj_strlit\\lib\\site-packages (from click<9,>=7.0->streamlit>=0.63->streamlit-lottie) (0.4.6)\n",
      "Requirement already satisfied: gitdb<5,>=4.0.1 in c:\\users\\arjun\\anaconda3\\envs\\proj_strlit\\lib\\site-packages (from gitpython!=3.1.19,<4,>=3.0.7->streamlit>=0.63->streamlit-lottie) (4.0.7)\n",
      "Requirement already satisfied: python-dateutil>=2.8.2 in c:\\users\\arjun\\anaconda3\\envs\\proj_strlit\\lib\\site-packages (from pandas<3,>=1.4.0->streamlit>=0.63->streamlit-lottie) (2.9.0.post0)\n",
      "Requirement already satisfied: pytz>=2020.1 in c:\\users\\arjun\\anaconda3\\envs\\proj_strlit\\lib\\site-packages (from pandas<3,>=1.4.0->streamlit>=0.63->streamlit-lottie) (2024.1)\n",
      "Requirement already satisfied: tzdata>=2022.1 in c:\\users\\arjun\\anaconda3\\envs\\proj_strlit\\lib\\site-packages (from pandas<3,>=1.4.0->streamlit>=0.63->streamlit-lottie) (2025.2)\n",
      "Requirement already satisfied: charset-normalizer<4,>=2 in c:\\users\\arjun\\anaconda3\\envs\\proj_strlit\\lib\\site-packages (from requests<3,>=2.27->streamlit>=0.63->streamlit-lottie) (3.3.2)\n",
      "Requirement already satisfied: idna<4,>=2.5 in c:\\users\\arjun\\anaconda3\\envs\\proj_strlit\\lib\\site-packages (from requests<3,>=2.27->streamlit>=0.63->streamlit-lottie) (3.7)\n",
      "Requirement already satisfied: urllib3<3,>=1.21.1 in c:\\users\\arjun\\anaconda3\\envs\\proj_strlit\\lib\\site-packages (from requests<3,>=2.27->streamlit>=0.63->streamlit-lottie) (1.26.19)\n",
      "Requirement already satisfied: certifi>=2017.4.17 in c:\\users\\arjun\\anaconda3\\envs\\proj_strlit\\lib\\site-packages (from requests<3,>=2.27->streamlit>=0.63->streamlit-lottie) (2024.8.30)\n",
      "Requirement already satisfied: markdown-it-py>=2.2.0 in c:\\users\\arjun\\anaconda3\\envs\\proj_strlit\\lib\\site-packages (from rich<14,>=10.14.0->streamlit>=0.63->streamlit-lottie) (2.2.0)\n",
      "Requirement already satisfied: pygments<3.0.0,>=2.13.0 in c:\\users\\arjun\\anaconda3\\envs\\proj_strlit\\lib\\site-packages (from rich<14,>=10.14.0->streamlit>=0.63->streamlit-lottie) (2.15.1)\n",
      "Requirement already satisfied: smmap<5,>=3.0.1 in c:\\users\\arjun\\anaconda3\\envs\\proj_strlit\\lib\\site-packages (from gitdb<5,>=4.0.1->gitpython!=3.1.19,<4,>=3.0.7->streamlit>=0.63->streamlit-lottie) (4.0.0)\n",
      "Requirement already satisfied: MarkupSafe>=2.0 in c:\\users\\arjun\\anaconda3\\envs\\proj_strlit\\lib\\site-packages (from jinja2->altair<6,>=4.0->streamlit>=0.63->streamlit-lottie) (2.1.3)\n",
      "Requirement already satisfied: attrs>=22.2.0 in c:\\users\\arjun\\anaconda3\\envs\\proj_strlit\\lib\\site-packages (from jsonschema>=3.0->altair<6,>=4.0->streamlit>=0.63->streamlit-lottie) (24.2.0)\n",
      "Requirement already satisfied: importlib-resources>=1.4.0 in c:\\users\\arjun\\anaconda3\\envs\\proj_strlit\\lib\\site-packages (from jsonschema>=3.0->altair<6,>=4.0->streamlit>=0.63->streamlit-lottie) (6.4.0)\n",
      "Requirement already satisfied: jsonschema-specifications>=2023.03.6 in c:\\users\\arjun\\anaconda3\\envs\\proj_strlit\\lib\\site-packages (from jsonschema>=3.0->altair<6,>=4.0->streamlit>=0.63->streamlit-lottie) (2023.7.1)\n",
      "Requirement already satisfied: pkgutil-resolve-name>=1.3.10 in c:\\users\\arjun\\anaconda3\\envs\\proj_strlit\\lib\\site-packages (from jsonschema>=3.0->altair<6,>=4.0->streamlit>=0.63->streamlit-lottie) (1.3.10)\n",
      "Requirement already satisfied: referencing>=0.28.4 in c:\\users\\arjun\\anaconda3\\envs\\proj_strlit\\lib\\site-packages (from jsonschema>=3.0->altair<6,>=4.0->streamlit>=0.63->streamlit-lottie) (0.30.2)\n",
      "Requirement already satisfied: rpds-py>=0.7.1 in c:\\users\\arjun\\anaconda3\\envs\\proj_strlit\\lib\\site-packages (from jsonschema>=3.0->altair<6,>=4.0->streamlit>=0.63->streamlit-lottie) (0.10.6)\n",
      "Requirement already satisfied: mdurl~=0.1 in c:\\users\\arjun\\anaconda3\\envs\\proj_strlit\\lib\\site-packages (from markdown-it-py>=2.2.0->rich<14,>=10.14.0->streamlit>=0.63->streamlit-lottie) (0.1.0)\n",
      "Requirement already satisfied: six>=1.5 in c:\\users\\arjun\\anaconda3\\envs\\proj_strlit\\lib\\site-packages (from python-dateutil>=2.8.2->pandas<3,>=1.4.0->streamlit>=0.63->streamlit-lottie) (1.16.0)\n",
      "Requirement already satisfied: zipp>=3.1.0 in c:\\users\\arjun\\anaconda3\\envs\\proj_strlit\\lib\\site-packages (from importlib-resources>=1.4.0->jsonschema>=3.0->altair<6,>=4.0->streamlit>=0.63->streamlit-lottie) (3.20.2)\n",
      "Downloading streamlit_lottie-0.0.5-py3-none-any.whl (802 kB)\n",
      "   ---------------------------------------- 0.0/802.4 kB ? eta -:--:--\n",
      "   ---------------------------------------  786.4/802.4 kB 5.6 MB/s eta 0:00:01\n",
      "   ---------------------------------------- 802.4/802.4 kB 3.8 MB/s eta 0:00:00\n",
      "Installing collected packages: streamlit-lottie\n",
      "Successfully installed streamlit-lottie-0.0.5\n"
     ]
    }
   ],
   "source": [
    "!pip install streamlit-lottie"
   ]
  },
  {
   "cell_type": "code",
   "execution_count": null,
   "id": "4082d1dd-6136-4728-a41d-a6996a26eafa",
   "metadata": {},
   "outputs": [],
   "source": []
  },
  {
   "cell_type": "code",
   "execution_count": null,
   "id": "1eae0664-c2a9-4228-a4c8-19d6028052da",
   "metadata": {},
   "outputs": [],
   "source": []
  },
  {
   "cell_type": "code",
   "execution_count": null,
   "id": "5846be98-d012-4039-864f-7e7a6c228001",
   "metadata": {},
   "outputs": [],
   "source": []
  }
 ],
 "metadata": {
  "kernelspec": {
   "display_name": "Python 3 (ipykernel)",
   "language": "python",
   "name": "python3"
  },
  "language_info": {
   "codemirror_mode": {
    "name": "ipython",
    "version": 3
   },
   "file_extension": ".py",
   "mimetype": "text/x-python",
   "name": "python",
   "nbconvert_exporter": "python",
   "pygments_lexer": "ipython3",
   "version": "3.8.16"
  }
 },
 "nbformat": 4,
 "nbformat_minor": 5
}
